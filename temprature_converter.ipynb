{
 "cells": [
  {
   "cell_type": "markdown",
   "id": "446cec45-03b8-4505-9f75-d118ef741355",
   "metadata": {},
   "source": [
    "- C to F: Double it and add 30\n",
    "- F to C: Take away 30 and halve it.\n",
    "- Kelvin = Celsius + 273.15\n",
    "- Celsius = kelvin - 273.15\n",
    "- K = (F − 32) × 5 ⁄ 9 + 273.15\n",
    "- F = (K – 273.15) × 9 ⁄ 5 + 32"
   ]
  },
  {
   "cell_type": "code",
   "execution_count": 1,
   "id": "e31e6bc7-99cc-4e1c-8d7b-436c9e80a7c6",
   "metadata": {},
   "outputs": [],
   "source": [
    "class TempratureConv():\n",
    "    \n",
    "    @staticmethod\n",
    "    def c_to_f():\n",
    "        temp = int(input(\"Enter Temprature to convert: \"))\n",
    "        return (temp * (9/5)) + 32\n",
    "    \n",
    "    @staticmethod\n",
    "    def f_to_c():\n",
    "        temp = int(input(\"Enter Temprature to convert: \"))\n",
    "        return (temp - 32) / (9/5)\n",
    "    \n",
    "    @staticmethod\n",
    "    def c_to_k():\n",
    "        temp = int(input(\"Enter Temprature to convert: \"))\n",
    "        return temp + 273.15\n",
    "    \n",
    "    @staticmethod\n",
    "    def k_to_c(temp):\n",
    "        temp = int(input(\"Enter Temprature to convert: \"))\n",
    "        return temp - 273.15\n",
    "    \n",
    "    @staticmethod\n",
    "    def f_to_k(temp):\n",
    "        temp = int(input(\"Enter Temprature to convert: \"))\n",
    "        return (temp - 32) * 5 / 9 + 273.15\n",
    "    \n",
    "    @staticmethod\n",
    "    def k_to_f(temp):\n",
    "        temp = int(input(\"Enter Temprature to convert: \"))\n",
    "        return (temp - 273.15) * 9 / 5 + 32\n",
    "    \n"
   ]
  },
  {
   "cell_type": "code",
   "execution_count": 12,
   "id": "440ff695-9500-4451-b36a-dae0f1b51f10",
   "metadata": {},
   "outputs": [],
   "source": [
    "\n",
    "def c_to_f():\n",
    "    temp = int(input(\"Enter Temprature to convert: \"))\n",
    "    return (temp * (9/5)) + 32\n",
    "    \n",
    "def f_to_c():\n",
    "    temp = int(input(\"Enter Temprature to convert: \"))\n",
    "    return (temp - 32) / (9/5)\n",
    "    \n",
    "\n",
    "def c_to_k():\n",
    "    temp = int(input(\"Enter Temprature to convert: \"))\n",
    "    return temp + 273.15\n",
    "    \n",
    "\n",
    "def k_to_c():\n",
    "    temp = int(input(\"Enter Temprature to convert: \"))\n",
    "    return temp - 273.15\n",
    "    \n",
    "\n",
    "def f_to_k():\n",
    "    temp = int(input(\"Enter Temprature to convert: \"))\n",
    "    return (temp - 32) * 5 / 9 + 273.15\n",
    "    \n",
    "\n",
    "def k_to_f():\n",
    "    temp = int(input(\"Enter Temprature to convert: \"))\n",
    "    return (temp - 273.15) * 9 / 5 + 32\n",
    "def temp_conv():\n",
    "    while True:\n",
    "        requirement = input(\"\"\"What kind of conversion you want:\n",
    "        Press 1 for: C to F\n",
    "        Press 2 for: F to C\n",
    "        Press 3 for: K to C\n",
    "        Press 4 for: C to K\n",
    "        Press 5 for: F to K\n",
    "        Press 6 for: K to F\n",
    "        Press 7 for: exit\n",
    "        \"\"\")\n",
    "        \n",
    "        if requirement == \"1\":\n",
    "            print( c_to_f())\n",
    "        elif requirement == \"2\":\n",
    "            print( f_to_c())\n",
    "        elif requirement == \"3\":\n",
    "            print( k_to_c())\n",
    "        elif requirement == \"4\":\n",
    "            print( c_to_k())\n",
    "        elif requirement == \"5\":\n",
    "            print( f_to_k())\n",
    "        elif requirement == \"6\":\n",
    "            print( k_to_f())\n",
    "        elif requirement == \"7\":\n",
    "            break        "
   ]
  },
  {
   "cell_type": "code",
   "execution_count": 13,
   "id": "11c6c794-fe50-4779-847c-9d39e25bd8ec",
   "metadata": {},
   "outputs": [
    {
     "name": "stdin",
     "output_type": "stream",
     "text": [
      "What kind of conversion you want:\n",
      "        Press 1 for: C to F\n",
      "        Press 2 for: F to C\n",
      "        Press 3 for: K to C\n",
      "        Press 4 for: C to K\n",
      "        Press 5 for: F to K\n",
      "        Press 6 for: K to F\n",
      "        Press 7 for: exit\n",
      "         4\n",
      "Enter Temprature to convert:  12\n"
     ]
    },
    {
     "name": "stdout",
     "output_type": "stream",
     "text": [
      "285.15\n"
     ]
    },
    {
     "name": "stdin",
     "output_type": "stream",
     "text": [
      "What kind of conversion you want:\n",
      "        Press 1 for: C to F\n",
      "        Press 2 for: F to C\n",
      "        Press 3 for: K to C\n",
      "        Press 4 for: C to K\n",
      "        Press 5 for: F to K\n",
      "        Press 6 for: K to F\n",
      "        Press 7 for: exit\n",
      "         5\n",
      "Enter Temprature to convert:  12\n"
     ]
    },
    {
     "name": "stdout",
     "output_type": "stream",
     "text": [
      "262.0388888888889\n"
     ]
    },
    {
     "name": "stdin",
     "output_type": "stream",
     "text": [
      "What kind of conversion you want:\n",
      "        Press 1 for: C to F\n",
      "        Press 2 for: F to C\n",
      "        Press 3 for: K to C\n",
      "        Press 4 for: C to K\n",
      "        Press 5 for: F to K\n",
      "        Press 6 for: K to F\n",
      "        Press 7 for: exit\n",
      "         6\n",
      "Enter Temprature to convert:  12\n"
     ]
    },
    {
     "name": "stdout",
     "output_type": "stream",
     "text": [
      "-438.07\n"
     ]
    },
    {
     "name": "stdin",
     "output_type": "stream",
     "text": [
      "What kind of conversion you want:\n",
      "        Press 1 for: C to F\n",
      "        Press 2 for: F to C\n",
      "        Press 3 for: K to C\n",
      "        Press 4 for: C to K\n",
      "        Press 5 for: F to K\n",
      "        Press 6 for: K to F\n",
      "        Press 7 for: exit\n",
      "         7\n"
     ]
    }
   ],
   "source": [
    "temp_conv()"
   ]
  },
  {
   "cell_type": "code",
   "execution_count": null,
   "id": "5d2508e5-b471-42e1-9f5f-7cee82ea4677",
   "metadata": {},
   "outputs": [],
   "source": []
  }
 ],
 "metadata": {
  "kernelspec": {
   "display_name": "Python 3 (ipykernel)",
   "language": "python",
   "name": "python3"
  },
  "language_info": {
   "codemirror_mode": {
    "name": "ipython",
    "version": 3
   },
   "file_extension": ".py",
   "mimetype": "text/x-python",
   "name": "python",
   "nbconvert_exporter": "python",
   "pygments_lexer": "ipython3",
   "version": "3.12.4"
  }
 },
 "nbformat": 4,
 "nbformat_minor": 5
}
